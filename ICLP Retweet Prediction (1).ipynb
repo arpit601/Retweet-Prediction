{
 "cells": [
  {
   "cell_type": "code",
   "execution_count": 118,
   "metadata": {
    "collapsed": false
   },
   "outputs": [],
   "source": [
    "#imports\n",
    "import pandas as pd\n",
    "import matplotlib.pyplot as plt\n",
    "from sklearn.model_selection import train_test_split\n",
    "from sklearn.linear_model import LinearRegression\n",
    "from sklearn.metrics import mean_squared_error\n",
    "from sklearn.model_selection import cross_val_score\n",
    "from sklearn.ensemble import RandomForestRegressor\n",
    "from sklearn.metrics import r2_score\n",
    "import statsmodels.api as sm\n",
    "import numpy as np\n",
    "\n",
    "# this allows plots to appear directly in the notebook\n",
    "%matplotlib inline"
   ]
  },
  {
   "cell_type": "code",
   "execution_count": 2,
   "metadata": {
    "collapsed": false
   },
   "outputs": [],
   "source": [
    "#reading data from excel file\n",
    "file = pd.read_excel(\"tweets.xlsx\")"
   ]
  },
  {
   "cell_type": "code",
   "execution_count": 3,
   "metadata": {
    "collapsed": false,
    "scrolled": true
   },
   "outputs": [
    {
     "data": {
      "text/html": [
       "<div>\n",
       "<table border=\"1\" class=\"dataframe\">\n",
       "  <thead>\n",
       "    <tr style=\"text-align: right;\">\n",
       "      <th></th>\n",
       "      <th>TweetPostedTime</th>\n",
       "      <th>TweetID</th>\n",
       "      <th>TweetBody</th>\n",
       "      <th>TweetRetweetFlag</th>\n",
       "      <th>TweetSource</th>\n",
       "      <th>TweetInReplyToStatusID</th>\n",
       "      <th>TweetInReplyToUserID</th>\n",
       "      <th>TweetInReplyToScreenName</th>\n",
       "      <th>TweetRetweetCount</th>\n",
       "      <th>TweetFavoritesCount</th>\n",
       "      <th>...</th>\n",
       "      <th>UserDescription</th>\n",
       "      <th>UserLink</th>\n",
       "      <th>UserExpandedLink</th>\n",
       "      <th>UserFollowersCount</th>\n",
       "      <th>UserFriendsCount</th>\n",
       "      <th>UserListedCount</th>\n",
       "      <th>UserSignupDate</th>\n",
       "      <th>UserTweetCount</th>\n",
       "      <th>MacroIterationNumber</th>\n",
       "      <th>tweet.place</th>\n",
       "    </tr>\n",
       "  </thead>\n",
       "  <tbody>\n",
       "    <tr>\n",
       "      <th>0</th>\n",
       "      <td>Tue Dec 20 10:57:00 +0000 2016</td>\n",
       "      <td>811163485052817408</td>\n",
       "      <td>RT @BeachyMaldives: Local interaction is a gre...</td>\n",
       "      <td>True</td>\n",
       "      <td>&lt;a href=\"http://twitter.com/download/iphone\" r...</td>\n",
       "      <td>NaN</td>\n",
       "      <td>NaN</td>\n",
       "      <td>NaN</td>\n",
       "      <td>1</td>\n",
       "      <td>0</td>\n",
       "      <td>...</td>\n",
       "      <td>Pls donate 2 https://t.co/RvOUK9lAWI #YearEndG...</td>\n",
       "      <td>https://t.co/jghZVBsiQF</td>\n",
       "      <td>http://cjqenterprises.com</td>\n",
       "      <td>6334</td>\n",
       "      <td>6144</td>\n",
       "      <td>1917</td>\n",
       "      <td>Sun Jun 14 22:36:15 +0000 2015</td>\n",
       "      <td>33556</td>\n",
       "      <td>0</td>\n",
       "      <td>NaN</td>\n",
       "    </tr>\n",
       "    <tr>\n",
       "      <th>1</th>\n",
       "      <td>Tue Dec 20 10:56:59 +0000 2016</td>\n",
       "      <td>811163483463122944</td>\n",
       "      <td>RT @TechTerraEd: Need #giftideas for your kid(...</td>\n",
       "      <td>True</td>\n",
       "      <td>&lt;a href=\"http://twitter.com/download/iphone\" r...</td>\n",
       "      <td>NaN</td>\n",
       "      <td>NaN</td>\n",
       "      <td>NaN</td>\n",
       "      <td>1</td>\n",
       "      <td>0</td>\n",
       "      <td>...</td>\n",
       "      <td>Educator of students with special needs, Mothe...</td>\n",
       "      <td>NaN</td>\n",
       "      <td>NaN</td>\n",
       "      <td>154</td>\n",
       "      <td>371</td>\n",
       "      <td>180</td>\n",
       "      <td>Sat Jan 02 13:36:23 +0000 2010</td>\n",
       "      <td>3201</td>\n",
       "      <td>0</td>\n",
       "      <td>NaN</td>\n",
       "    </tr>\n",
       "    <tr>\n",
       "      <th>2</th>\n",
       "      <td>Tue Dec 20 10:56:55 +0000 2016</td>\n",
       "      <td>811163466387988480</td>\n",
       "      <td>Seven Questions Before Choosing a Cruise Line ...</td>\n",
       "      <td>False</td>\n",
       "      <td>&lt;a href=\"http://www.google.com/\" rel=\"nofollow...</td>\n",
       "      <td>NaN</td>\n",
       "      <td>NaN</td>\n",
       "      <td>NaN</td>\n",
       "      <td>0</td>\n",
       "      <td>0</td>\n",
       "      <td>...</td>\n",
       "      <td>Thrifty Mom Media social media consulting and ...</td>\n",
       "      <td>https://t.co/cEhGzaQJp6</td>\n",
       "      <td>http://www.thriftymommastips.com/</td>\n",
       "      <td>23433</td>\n",
       "      <td>24762</td>\n",
       "      <td>961</td>\n",
       "      <td>Tue May 26 21:26:09 +0000 2009</td>\n",
       "      <td>147958</td>\n",
       "      <td>0</td>\n",
       "      <td>NaN</td>\n",
       "    </tr>\n",
       "    <tr>\n",
       "      <th>3</th>\n",
       "      <td>Tue Dec 20 10:56:55 +0000 2016</td>\n",
       "      <td>811163465125679104</td>\n",
       "      <td>RT @CMGsportsclub: Yoga do Brasil, un havre de...</td>\n",
       "      <td>True</td>\n",
       "      <td>&lt;a href=\"https://roundteam.co\" rel=\"nofollow\"&gt;...</td>\n",
       "      <td>NaN</td>\n",
       "      <td>NaN</td>\n",
       "      <td>NaN</td>\n",
       "      <td>1</td>\n",
       "      <td>0</td>\n",
       "      <td>...</td>\n",
       "      <td>Adventure travel, yoga, paleo, Crossfit, runni...</td>\n",
       "      <td>https://t.co/3IHwXkgAkA</td>\n",
       "      <td>https://primalsanctuary.com</td>\n",
       "      <td>11136</td>\n",
       "      <td>10081</td>\n",
       "      <td>978</td>\n",
       "      <td>Sat Sep 12 20:29:18 +0000 2015</td>\n",
       "      <td>28988</td>\n",
       "      <td>0</td>\n",
       "      <td>NaN</td>\n",
       "    </tr>\n",
       "    <tr>\n",
       "      <th>4</th>\n",
       "      <td>Tue Dec 20 10:56:53 +0000 2016</td>\n",
       "      <td>811163457508642817</td>\n",
       "      <td>RT @StylishRentals: Love this! \"Palm Springs M...</td>\n",
       "      <td>True</td>\n",
       "      <td>&lt;a href=\"http://twitter.com\" rel=\"nofollow\"&gt;Tw...</td>\n",
       "      <td>NaN</td>\n",
       "      <td>NaN</td>\n",
       "      <td>NaN</td>\n",
       "      <td>3065</td>\n",
       "      <td>0</td>\n",
       "      <td>...</td>\n",
       "      <td>I really have got giant ambitions. I start com...</td>\n",
       "      <td>NaN</td>\n",
       "      <td>NaN</td>\n",
       "      <td>55</td>\n",
       "      <td>21</td>\n",
       "      <td>31</td>\n",
       "      <td>Wed Sep 07 16:22:15 +0000 2016</td>\n",
       "      <td>19581</td>\n",
       "      <td>0</td>\n",
       "      <td>NaN</td>\n",
       "    </tr>\n",
       "  </tbody>\n",
       "</table>\n",
       "<p>5 rows × 32 columns</p>\n",
       "</div>"
      ],
      "text/plain": [
       "                  TweetPostedTime             TweetID  \\\n",
       "0  Tue Dec 20 10:57:00 +0000 2016  811163485052817408   \n",
       "1  Tue Dec 20 10:56:59 +0000 2016  811163483463122944   \n",
       "2  Tue Dec 20 10:56:55 +0000 2016  811163466387988480   \n",
       "3  Tue Dec 20 10:56:55 +0000 2016  811163465125679104   \n",
       "4  Tue Dec 20 10:56:53 +0000 2016  811163457508642817   \n",
       "\n",
       "                                           TweetBody TweetRetweetFlag  \\\n",
       "0  RT @BeachyMaldives: Local interaction is a gre...             True   \n",
       "1  RT @TechTerraEd: Need #giftideas for your kid(...             True   \n",
       "2  Seven Questions Before Choosing a Cruise Line ...            False   \n",
       "3  RT @CMGsportsclub: Yoga do Brasil, un havre de...             True   \n",
       "4  RT @StylishRentals: Love this! \"Palm Springs M...             True   \n",
       "\n",
       "                                         TweetSource  TweetInReplyToStatusID  \\\n",
       "0  <a href=\"http://twitter.com/download/iphone\" r...                     NaN   \n",
       "1  <a href=\"http://twitter.com/download/iphone\" r...                     NaN   \n",
       "2  <a href=\"http://www.google.com/\" rel=\"nofollow...                     NaN   \n",
       "3  <a href=\"https://roundteam.co\" rel=\"nofollow\">...                     NaN   \n",
       "4  <a href=\"http://twitter.com\" rel=\"nofollow\">Tw...                     NaN   \n",
       "\n",
       "   TweetInReplyToUserID TweetInReplyToScreenName  TweetRetweetCount  \\\n",
       "0                   NaN                      NaN                  1   \n",
       "1                   NaN                      NaN                  1   \n",
       "2                   NaN                      NaN                  0   \n",
       "3                   NaN                      NaN                  1   \n",
       "4                   NaN                      NaN               3065   \n",
       "\n",
       "   TweetFavoritesCount     ...      \\\n",
       "0                    0     ...       \n",
       "1                    0     ...       \n",
       "2                    0     ...       \n",
       "3                    0     ...       \n",
       "4                    0     ...       \n",
       "\n",
       "                                     UserDescription                 UserLink  \\\n",
       "0  Pls donate 2 https://t.co/RvOUK9lAWI #YearEndG...  https://t.co/jghZVBsiQF   \n",
       "1  Educator of students with special needs, Mothe...                      NaN   \n",
       "2  Thrifty Mom Media social media consulting and ...  https://t.co/cEhGzaQJp6   \n",
       "3  Adventure travel, yoga, paleo, Crossfit, runni...  https://t.co/3IHwXkgAkA   \n",
       "4  I really have got giant ambitions. I start com...                      NaN   \n",
       "\n",
       "                    UserExpandedLink UserFollowersCount UserFriendsCount  \\\n",
       "0          http://cjqenterprises.com               6334             6144   \n",
       "1                                NaN                154              371   \n",
       "2  http://www.thriftymommastips.com/              23433            24762   \n",
       "3        https://primalsanctuary.com              11136            10081   \n",
       "4                                NaN                 55               21   \n",
       "\n",
       "  UserListedCount                  UserSignupDate  UserTweetCount  \\\n",
       "0            1917  Sun Jun 14 22:36:15 +0000 2015           33556   \n",
       "1             180  Sat Jan 02 13:36:23 +0000 2010            3201   \n",
       "2             961  Tue May 26 21:26:09 +0000 2009          147958   \n",
       "3             978  Sat Sep 12 20:29:18 +0000 2015           28988   \n",
       "4              31  Wed Sep 07 16:22:15 +0000 2016           19581   \n",
       "\n",
       "   MacroIterationNumber tweet.place  \n",
       "0                     0         NaN  \n",
       "1                     0         NaN  \n",
       "2                     0         NaN  \n",
       "3                     0         NaN  \n",
       "4                     0         NaN  \n",
       "\n",
       "[5 rows x 32 columns]"
      ]
     },
     "execution_count": 3,
     "metadata": {},
     "output_type": "execute_result"
    }
   ],
   "source": [
    "#looking at data to get a understanding of the data\n",
    "file.head()"
   ]
  },
  {
   "cell_type": "code",
   "execution_count": 4,
   "metadata": {
    "collapsed": false
   },
   "outputs": [
    {
     "data": {
      "text/plain": [
       "(42368, 32)"
      ]
     },
     "execution_count": 4,
     "metadata": {},
     "output_type": "execute_result"
    }
   ],
   "source": [
    "#getting total number of rows and columns\n",
    "file.shape"
   ]
  },
  {
   "cell_type": "code",
   "execution_count": 5,
   "metadata": {
    "collapsed": false,
    "scrolled": false
   },
   "outputs": [
    {
     "name": "stderr",
     "output_type": "stream",
     "text": [
      "/home/arpit/anaconda2/lib/python2.7/site-packages/numpy/lib/function_base.py:3834: RuntimeWarning: Invalid value encountered in percentile\n",
      "  RuntimeWarning)\n"
     ]
    },
    {
     "data": {
      "text/html": [
       "<div>\n",
       "<table border=\"1\" class=\"dataframe\">\n",
       "  <thead>\n",
       "    <tr style=\"text-align: right;\">\n",
       "      <th></th>\n",
       "      <th>TweetID</th>\n",
       "      <th>TweetInReplyToStatusID</th>\n",
       "      <th>TweetInReplyToUserID</th>\n",
       "      <th>TweetRetweetCount</th>\n",
       "      <th>TweetFavoritesCount</th>\n",
       "      <th>TweetPlaceAttributes</th>\n",
       "      <th>TweetPlaceContainedWithin</th>\n",
       "      <th>UserID</th>\n",
       "      <th>UserFollowersCount</th>\n",
       "      <th>UserFriendsCount</th>\n",
       "      <th>UserListedCount</th>\n",
       "      <th>UserTweetCount</th>\n",
       "      <th>MacroIterationNumber</th>\n",
       "    </tr>\n",
       "  </thead>\n",
       "  <tbody>\n",
       "    <tr>\n",
       "      <th>count</th>\n",
       "      <td>4.236800e+04</td>\n",
       "      <td>1.010000e+02</td>\n",
       "      <td>1.890000e+02</td>\n",
       "      <td>42368.000000</td>\n",
       "      <td>42368.000000</td>\n",
       "      <td>0.0</td>\n",
       "      <td>0.0</td>\n",
       "      <td>4.236800e+04</td>\n",
       "      <td>4.236800e+04</td>\n",
       "      <td>42368.000000</td>\n",
       "      <td>42368.000000</td>\n",
       "      <td>4.236800e+04</td>\n",
       "      <td>42368.000000</td>\n",
       "    </tr>\n",
       "    <tr>\n",
       "      <th>mean</th>\n",
       "      <td>8.110767e+17</td>\n",
       "      <td>8.107005e+17</td>\n",
       "      <td>6.489163e+16</td>\n",
       "      <td>1081.095402</td>\n",
       "      <td>0.805561</td>\n",
       "      <td>NaN</td>\n",
       "      <td>NaN</td>\n",
       "      <td>3.398540e+17</td>\n",
       "      <td>6.196995e+03</td>\n",
       "      <td>3859.351846</td>\n",
       "      <td>312.092546</td>\n",
       "      <td>3.777249e+04</td>\n",
       "      <td>226.111688</td>\n",
       "    </tr>\n",
       "    <tr>\n",
       "      <th>std</th>\n",
       "      <td>4.408380e+13</td>\n",
       "      <td>2.581401e+15</td>\n",
       "      <td>2.140714e+17</td>\n",
       "      <td>1432.473561</td>\n",
       "      <td>37.214059</td>\n",
       "      <td>NaN</td>\n",
       "      <td>NaN</td>\n",
       "      <td>3.799438e+17</td>\n",
       "      <td>5.620006e+04</td>\n",
       "      <td>19345.980461</td>\n",
       "      <td>850.623581</td>\n",
       "      <td>9.001777e+04</td>\n",
       "      <td>128.720271</td>\n",
       "    </tr>\n",
       "    <tr>\n",
       "      <th>min</th>\n",
       "      <td>8.110045e+17</td>\n",
       "      <td>7.860072e+17</td>\n",
       "      <td>3.389391e+06</td>\n",
       "      <td>0.000000</td>\n",
       "      <td>0.000000</td>\n",
       "      <td>NaN</td>\n",
       "      <td>NaN</td>\n",
       "      <td>1.968000e+03</td>\n",
       "      <td>0.000000e+00</td>\n",
       "      <td>0.000000</td>\n",
       "      <td>0.000000</td>\n",
       "      <td>1.000000e+00</td>\n",
       "      <td>0.000000</td>\n",
       "    </tr>\n",
       "    <tr>\n",
       "      <th>25%</th>\n",
       "      <td>8.110410e+17</td>\n",
       "      <td>NaN</td>\n",
       "      <td>NaN</td>\n",
       "      <td>0.000000</td>\n",
       "      <td>0.000000</td>\n",
       "      <td>NaN</td>\n",
       "      <td>NaN</td>\n",
       "      <td>5.862261e+08</td>\n",
       "      <td>4.000000e+01</td>\n",
       "      <td>40.000000</td>\n",
       "      <td>17.000000</td>\n",
       "      <td>2.793500e+03</td>\n",
       "      <td>115.000000</td>\n",
       "    </tr>\n",
       "    <tr>\n",
       "      <th>50%</th>\n",
       "      <td>8.110762e+17</td>\n",
       "      <td>NaN</td>\n",
       "      <td>NaN</td>\n",
       "      <td>14.000000</td>\n",
       "      <td>0.000000</td>\n",
       "      <td>NaN</td>\n",
       "      <td>NaN</td>\n",
       "      <td>4.610624e+09</td>\n",
       "      <td>1.490000e+02</td>\n",
       "      <td>304.000000</td>\n",
       "      <td>41.000000</td>\n",
       "      <td>1.989700e+04</td>\n",
       "      <td>227.000000</td>\n",
       "    </tr>\n",
       "    <tr>\n",
       "      <th>75%</th>\n",
       "      <td>8.111137e+17</td>\n",
       "      <td>NaN</td>\n",
       "      <td>NaN</td>\n",
       "      <td>3069.000000</td>\n",
       "      <td>0.000000</td>\n",
       "      <td>NaN</td>\n",
       "      <td>NaN</td>\n",
       "      <td>7.662723e+17</td>\n",
       "      <td>1.819250e+03</td>\n",
       "      <td>1780.000000</td>\n",
       "      <td>217.000000</td>\n",
       "      <td>3.327400e+04</td>\n",
       "      <td>337.000000</td>\n",
       "    </tr>\n",
       "    <tr>\n",
       "      <th>max</th>\n",
       "      <td>8.111635e+17</td>\n",
       "      <td>8.111578e+17</td>\n",
       "      <td>8.016277e+17</td>\n",
       "      <td>4056.000000</td>\n",
       "      <td>2813.000000</td>\n",
       "      <td>NaN</td>\n",
       "      <td>NaN</td>\n",
       "      <td>8.111532e+17</td>\n",
       "      <td>4.572706e+06</td>\n",
       "      <td>689302.000000</td>\n",
       "      <td>26577.000000</td>\n",
       "      <td>2.064424e+06</td>\n",
       "      <td>449.000000</td>\n",
       "    </tr>\n",
       "  </tbody>\n",
       "</table>\n",
       "</div>"
      ],
      "text/plain": [
       "            TweetID  TweetInReplyToStatusID  TweetInReplyToUserID  \\\n",
       "count  4.236800e+04            1.010000e+02          1.890000e+02   \n",
       "mean   8.110767e+17            8.107005e+17          6.489163e+16   \n",
       "std    4.408380e+13            2.581401e+15          2.140714e+17   \n",
       "min    8.110045e+17            7.860072e+17          3.389391e+06   \n",
       "25%    8.110410e+17                     NaN                   NaN   \n",
       "50%    8.110762e+17                     NaN                   NaN   \n",
       "75%    8.111137e+17                     NaN                   NaN   \n",
       "max    8.111635e+17            8.111578e+17          8.016277e+17   \n",
       "\n",
       "       TweetRetweetCount  TweetFavoritesCount  TweetPlaceAttributes  \\\n",
       "count       42368.000000         42368.000000                   0.0   \n",
       "mean         1081.095402             0.805561                   NaN   \n",
       "std          1432.473561            37.214059                   NaN   \n",
       "min             0.000000             0.000000                   NaN   \n",
       "25%             0.000000             0.000000                   NaN   \n",
       "50%            14.000000             0.000000                   NaN   \n",
       "75%          3069.000000             0.000000                   NaN   \n",
       "max          4056.000000          2813.000000                   NaN   \n",
       "\n",
       "       TweetPlaceContainedWithin        UserID  UserFollowersCount  \\\n",
       "count                        0.0  4.236800e+04        4.236800e+04   \n",
       "mean                         NaN  3.398540e+17        6.196995e+03   \n",
       "std                          NaN  3.799438e+17        5.620006e+04   \n",
       "min                          NaN  1.968000e+03        0.000000e+00   \n",
       "25%                          NaN  5.862261e+08        4.000000e+01   \n",
       "50%                          NaN  4.610624e+09        1.490000e+02   \n",
       "75%                          NaN  7.662723e+17        1.819250e+03   \n",
       "max                          NaN  8.111532e+17        4.572706e+06   \n",
       "\n",
       "       UserFriendsCount  UserListedCount  UserTweetCount  MacroIterationNumber  \n",
       "count      42368.000000     42368.000000    4.236800e+04          42368.000000  \n",
       "mean        3859.351846       312.092546    3.777249e+04            226.111688  \n",
       "std        19345.980461       850.623581    9.001777e+04            128.720271  \n",
       "min            0.000000         0.000000    1.000000e+00              0.000000  \n",
       "25%           40.000000        17.000000    2.793500e+03            115.000000  \n",
       "50%          304.000000        41.000000    1.989700e+04            227.000000  \n",
       "75%         1780.000000       217.000000    3.327400e+04            337.000000  \n",
       "max       689302.000000     26577.000000    2.064424e+06            449.000000  "
      ]
     },
     "execution_count": 5,
     "metadata": {},
     "output_type": "execute_result"
    }
   ],
   "source": [
    "#getting stats foe each column\n",
    "file.describe()\n"
   ]
  },
  {
   "cell_type": "code",
   "execution_count": 117,
   "metadata": {
    "collapsed": false,
    "scrolled": true
   },
   "outputs": [
    {
     "data": {
      "image/png": "[encoded data removed]",
      "text/plain": [
       "<matplotlib.figure.Figure at 0x7f4a68616090>"
      ]
     },
     "metadata": {},
     "output_type": "display_data"
    }
   ],
   "source": [
    "#to check empty cells in each feature variable\n",
    "z1=file.count()\n",
    "plt.figure(figsize=(8,2))\n",
    "z2=z1.plot(kind=\"bar\")\n",
    "z3=z2.get_figure()\n",
    "z3.savefig('asd3.png',dpi=100)"
   ]
  },
  {
   "cell_type": "code",
   "execution_count": 86,
   "metadata": {
    "collapsed": false
   },
   "outputs": [
    {
     "data": {
      "image/png": "[encoded data removed]",
      "text/plain": [
       "<matplotlib.figure.Figure at 0x7f4a66aebd90>"
      ]
     },
     "metadata": {},
     "output_type": "display_data"
    }
   ],
   "source": [
    "# visualize the relationship between the features and the response using scatterplots\n",
    "fig, axs = plt.subplots(1, 3, sharey=True)\n",
    "file.plot(kind='scatter', x='UserFollowersCount', y='TweetRetweetCount',ax=axs[0],figsize=(16,8))\n",
    "file.plot(kind='scatter', x='TweetFavoritesCount', y='TweetRetweetCount', ax=axs[1])\n",
    "file.plot(kind='scatter', x='UserFriendsCount', y='TweetRetweetCount', ax=axs[2])\n",
    "fig.savefig('asd1.png')"
   ]
  },
  {
   "cell_type": "code",
   "execution_count": 87,
   "metadata": {
    "collapsed": false
   },
   "outputs": [
    {
     "data": {
      "image/png": "[encoded data removed]",
      "text/plain": [
       "<matplotlib.figure.Figure at 0x7f4a6993fc90>"
      ]
     },
     "metadata": {},
     "output_type": "display_data"
    }
   ],
   "source": [
    "# visualize the relationship between the features and the response using scatterplots\n",
    "fig, axs = plt.subplots(1, 3, sharey=True)\n",
    "file.plot(kind='scatter', x='UserListedCount', y='TweetRetweetCount',ax=axs[0],figsize=(16,8))\n",
    "file.plot(kind='scatter', x='UserTweetCount', y='TweetRetweetCount', ax=axs[1])\n",
    "file.plot(kind='scatter', x='MacroIterationNumber', y='TweetRetweetCount', ax=axs[2])\n",
    "fig.savefig('asd2.png')"
   ]
  },
  {
   "cell_type": "code",
   "execution_count": 10,
   "metadata": {
    "collapsed": false
   },
   "outputs": [],
   "source": [
    "#creating a new feature of count of hashtags within a tweet\n",
    "Hashtags_count = []\n",
    "file.TweetHashtags.fillna(\"a\",inplace=True)\n",
    "for i in range(len(file.TweetHashtags)):\n",
    "    if file.TweetHashtags[i]== \"a\":\n",
    "        Hashtags_count.append(0)\n",
    "    else:\n",
    "        Hashtags_count.append((len([j for j in file.TweetHashtags[i].split(\",\")])))"
   ]
  },
  {
   "cell_type": "code",
   "execution_count": 11,
   "metadata": {
    "collapsed": true
   },
   "outputs": [],
   "source": [
    "#adding new feature to the dataframe\n",
    "file['Hashtags_count']=Hashtags_count"
   ]
  },
  {
   "cell_type": "code",
   "execution_count": 12,
   "metadata": {
    "collapsed": true
   },
   "outputs": [],
   "source": [
    "# lets take X be the feature matrix and Y be the target variable\n",
    "Y= file.TweetRetweetCount\n",
    "X= file.ix[:, file.columns != 'TweetRetweetCount']"
   ]
  },
  {
   "cell_type": "code",
   "execution_count": 13,
   "metadata": {
    "collapsed": false
   },
   "outputs": [],
   "source": [
    "# create a Python list of feature names\n",
    "feature_cols = ['UserFollowersCount','TweetFavoritesCount','UserFriendsCount','UserListedCount','UserTweetCount','MacroIterationNumber','Hashtags_count']\n",
    "\n",
    "# use the list to select a subset of the original DataFrame\n",
    "X1 = X[feature_cols]"
   ]
  },
  {
   "cell_type": "code",
   "execution_count": 84,
   "metadata": {
    "collapsed": false
   },
   "outputs": [
    {
     "data": {
      "image/png": "[encoded data removed]",
      "text/plain": [
       "<matplotlib.figure.Figure at 0x7f4a67f69510>"
      ]
     },
     "metadata": {},
     "output_type": "display_data"
    }
   ],
   "source": [
    "#univariate analysis of the feature columns\n",
    "z=X1.describe()\n",
    "\n",
    "ax = z.plot()\n",
    "#ax.set_ylim([0,10000000])\n",
    "fig = ax.get_figure()\n",
    "\n",
    "fig.savefig('asdf.png')"
   ]
  },
  {
   "cell_type": "code",
   "execution_count": 14,
   "metadata": {
    "collapsed": false
   },
   "outputs": [],
   "source": [
    "#splitting the file into train and test (75% rows in train and 25% in test)\n",
    "X_train, X_test, Y_train, Y_test = train_test_split(X1, Y, random_state=1)"
   ]
  },
  {
   "cell_type": "code",
   "execution_count": 15,
   "metadata": {
    "collapsed": false,
    "scrolled": true
   },
   "outputs": [
    {
     "name": "stdout",
     "output_type": "stream",
     "text": [
      "(31776, 7)\n",
      "(31776,)\n",
      "(10592, 7)\n",
      "(10592,)\n"
     ]
    }
   ],
   "source": [
    "#checking train and test files shape\n",
    "print(X_train.shape)\n",
    "print(Y_train.shape)\n",
    "print(X_test.shape)\n",
    "print(Y_test.shape)"
   ]
  },
  {
   "cell_type": "markdown",
   "metadata": {},
   "source": [
    "## Linear regression on training data and checking on test data"
   ]
  },
  {
   "cell_type": "code",
   "execution_count": 16,
   "metadata": {
    "collapsed": false
   },
   "outputs": [
    {
     "data": {
      "text/plain": [
       "LinearRegression(copy_X=True, fit_intercept=True, n_jobs=1, normalize=False)"
      ]
     },
     "execution_count": 16,
     "metadata": {},
     "output_type": "execute_result"
    }
   ],
   "source": [
    "# instantiate\n",
    "linreg = LinearRegression()\n",
    "\n",
    "# fit the model to the training data (learn the coefficients)\n",
    "linreg.fit(X_train, Y_train)"
   ]
  },
  {
   "cell_type": "code",
   "execution_count": 17,
   "metadata": {
    "collapsed": false,
    "scrolled": true
   },
   "outputs": [
    {
     "name": "stdout",
     "output_type": "stream",
     "text": [
      "1763.86097309\n",
      "[  2.32347142e-03   3.69064041e-01  -6.68260334e-03  -3.65783350e-01\n",
      "   2.77140323e-04   1.55788715e+00  -3.20798228e+02]\n"
     ]
    }
   ],
   "source": [
    "# print the intercept and coefficients\n",
    "print(linreg.intercept_)\n",
    "print(linreg.coef_)"
   ]
  },
  {
   "cell_type": "code",
   "execution_count": 18,
   "metadata": {
    "collapsed": false
   },
   "outputs": [
    {
     "data": {
      "text/plain": [
       "[('UserFollowersCount', 0.0023234714238673649),\n",
       " ('TweetFavoritesCount', 0.36906404071565801),\n",
       " ('UserFriendsCount', -0.0066826033436032982),\n",
       " ('UserListedCount', -0.36578335041043142),\n",
       " ('UserTweetCount', 0.00027714032257068966),\n",
       " ('MacroIterationNumber', 1.5578871544782416),\n",
       " ('Hashtags_count', -320.7982280637014)]"
      ]
     },
     "execution_count": 18,
     "metadata": {},
     "output_type": "execute_result"
    }
   ],
   "source": [
    "# pair the feature names with the coefficients\n",
    "list(zip(feature_cols, linreg.coef_))"
   ]
  },
  {
   "cell_type": "code",
   "execution_count": 123,
   "metadata": {
    "collapsed": true
   },
   "outputs": [],
   "source": [
    "# make predictions on the testing set\n",
    "Y_pred = linreg.predict(X_test)"
   ]
  },
  {
   "cell_type": "code",
   "execution_count": 29,
   "metadata": {
    "collapsed": false,
    "scrolled": true
   },
   "outputs": [
    {
     "name": "stdout",
     "output_type": "stream",
     "text": [
      "1152.63504509\n"
     ]
    }
   ],
   "source": [
    "#calculating RMSE\n",
    "print(np.sqrt(mean_squared_error(Y_test, Y_pred)))"
   ]
  },
  {
   "cell_type": "code",
   "execution_count": 132,
   "metadata": {
    "collapsed": false
   },
   "outputs": [
    {
     "data": {
      "text/plain": [
       "0.34877612181495554"
      ]
     },
     "execution_count": 132,
     "metadata": {},
     "output_type": "execute_result"
    }
   ],
   "source": [
    "Y_pred = linreg.predict(X_test)\n",
    "r2_score(Y_test,Y_pred)"
   ]
  },
  {
   "cell_type": "code",
   "execution_count": 149,
   "metadata": {
    "collapsed": false
   },
   "outputs": [
    {
     "data": {
      "text/plain": [
       "0.34877612181495554"
      ]
     },
     "execution_count": 149,
     "metadata": {},
     "output_type": "execute_result"
    }
   ],
   "source": [
    "adjusted_r_square=1-(1- 0.34877612181495554)*(31775/31768)\n",
    "\n",
    "adjusted_r_square"
   ]
  },
  {
   "cell_type": "code",
   "execution_count": 30,
   "metadata": {
    "collapsed": false,
    "scrolled": true
   },
   "outputs": [
    {
     "name": "stdout",
     "output_type": "stream",
     "text": [
      "Actual vs Predicted using Linear Regression\n"
     ]
    },
    {
     "data": {
      "text/html": [
       "<div>\n",
       "<table border=\"1\" class=\"dataframe\">\n",
       "  <thead>\n",
       "    <tr style=\"text-align: right;\">\n",
       "      <th></th>\n",
       "      <th>Actual Retweets</th>\n",
       "      <th>Predicted Retweet</th>\n",
       "    </tr>\n",
       "  </thead>\n",
       "  <tbody>\n",
       "    <tr>\n",
       "      <th>12295</th>\n",
       "      <td>14</td>\n",
       "      <td>-403.977332</td>\n",
       "    </tr>\n",
       "    <tr>\n",
       "      <th>37966</th>\n",
       "      <td>3086</td>\n",
       "      <td>2070.031217</td>\n",
       "    </tr>\n",
       "    <tr>\n",
       "      <th>808</th>\n",
       "      <td>49</td>\n",
       "      <td>698.428618</td>\n",
       "    </tr>\n",
       "    <tr>\n",
       "      <th>948</th>\n",
       "      <td>0</td>\n",
       "      <td>1368.692756</td>\n",
       "    </tr>\n",
       "    <tr>\n",
       "      <th>23003</th>\n",
       "      <td>1</td>\n",
       "      <td>-1360.444387</td>\n",
       "    </tr>\n",
       "    <tr>\n",
       "      <th>1399</th>\n",
       "      <td>0</td>\n",
       "      <td>1360.650035</td>\n",
       "    </tr>\n",
       "    <tr>\n",
       "      <th>39427</th>\n",
       "      <td>3086</td>\n",
       "      <td>2085.597540</td>\n",
       "    </tr>\n",
       "    <tr>\n",
       "      <th>25986</th>\n",
       "      <td>3309</td>\n",
       "      <td>1867.887102</td>\n",
       "    </tr>\n",
       "    <tr>\n",
       "      <th>1000</th>\n",
       "      <td>14</td>\n",
       "      <td>804.108428</td>\n",
       "    </tr>\n",
       "    <tr>\n",
       "      <th>5163</th>\n",
       "      <td>0</td>\n",
       "      <td>1186.944501</td>\n",
       "    </tr>\n",
       "    <tr>\n",
       "      <th>23428</th>\n",
       "      <td>1</td>\n",
       "      <td>1084.102837</td>\n",
       "    </tr>\n",
       "    <tr>\n",
       "      <th>17380</th>\n",
       "      <td>3241</td>\n",
       "      <td>1731.065972</td>\n",
       "    </tr>\n",
       "    <tr>\n",
       "      <th>35253</th>\n",
       "      <td>1</td>\n",
       "      <td>1643.263082</td>\n",
       "    </tr>\n",
       "    <tr>\n",
       "      <th>14267</th>\n",
       "      <td>0</td>\n",
       "      <td>1026.567451</td>\n",
       "    </tr>\n",
       "    <tr>\n",
       "      <th>1144</th>\n",
       "      <td>0</td>\n",
       "      <td>-163.787070</td>\n",
       "    </tr>\n",
       "    <tr>\n",
       "      <th>42273</th>\n",
       "      <td>3043</td>\n",
       "      <td>2135.460141</td>\n",
       "    </tr>\n",
       "    <tr>\n",
       "      <th>31043</th>\n",
       "      <td>3228</td>\n",
       "      <td>1954.952646</td>\n",
       "    </tr>\n",
       "    <tr>\n",
       "      <th>28788</th>\n",
       "      <td>0</td>\n",
       "      <td>1267.950834</td>\n",
       "    </tr>\n",
       "    <tr>\n",
       "      <th>32464</th>\n",
       "      <td>0</td>\n",
       "      <td>1476.708070</td>\n",
       "    </tr>\n",
       "    <tr>\n",
       "      <th>14507</th>\n",
       "      <td>25</td>\n",
       "      <td>1024.570869</td>\n",
       "    </tr>\n",
       "    <tr>\n",
       "      <th>38189</th>\n",
       "      <td>3086</td>\n",
       "      <td>2068.291174</td>\n",
       "    </tr>\n",
       "    <tr>\n",
       "      <th>11350</th>\n",
       "      <td>15</td>\n",
       "      <td>939.333764</td>\n",
       "    </tr>\n",
       "    <tr>\n",
       "      <th>42275</th>\n",
       "      <td>0</td>\n",
       "      <td>201.699580</td>\n",
       "    </tr>\n",
       "    <tr>\n",
       "      <th>33122</th>\n",
       "      <td>0</td>\n",
       "      <td>1331.873284</td>\n",
       "    </tr>\n",
       "    <tr>\n",
       "      <th>14536</th>\n",
       "      <td>66</td>\n",
       "      <td>390.005807</td>\n",
       "    </tr>\n",
       "    <tr>\n",
       "      <th>19481</th>\n",
       "      <td>53</td>\n",
       "      <td>567.742004</td>\n",
       "    </tr>\n",
       "    <tr>\n",
       "      <th>36493</th>\n",
       "      <td>0</td>\n",
       "      <td>1412.575543</td>\n",
       "    </tr>\n",
       "    <tr>\n",
       "      <th>25524</th>\n",
       "      <td>9</td>\n",
       "      <td>125.667541</td>\n",
       "    </tr>\n",
       "    <tr>\n",
       "      <th>6274</th>\n",
       "      <td>0</td>\n",
       "      <td>882.769050</td>\n",
       "    </tr>\n",
       "    <tr>\n",
       "      <th>40174</th>\n",
       "      <td>3086</td>\n",
       "      <td>2104.905759</td>\n",
       "    </tr>\n",
       "    <tr>\n",
       "      <th>...</th>\n",
       "      <td>...</td>\n",
       "      <td>...</td>\n",
       "    </tr>\n",
       "    <tr>\n",
       "      <th>10719</th>\n",
       "      <td>1</td>\n",
       "      <td>270.491646</td>\n",
       "    </tr>\n",
       "    <tr>\n",
       "      <th>6955</th>\n",
       "      <td>743</td>\n",
       "      <td>280.010784</td>\n",
       "    </tr>\n",
       "    <tr>\n",
       "      <th>31345</th>\n",
       "      <td>0</td>\n",
       "      <td>998.352997</td>\n",
       "    </tr>\n",
       "    <tr>\n",
       "      <th>18949</th>\n",
       "      <td>0</td>\n",
       "      <td>-179.356742</td>\n",
       "    </tr>\n",
       "    <tr>\n",
       "      <th>31655</th>\n",
       "      <td>0</td>\n",
       "      <td>1622.732384</td>\n",
       "    </tr>\n",
       "    <tr>\n",
       "      <th>39488</th>\n",
       "      <td>3086</td>\n",
       "      <td>2099.018320</td>\n",
       "    </tr>\n",
       "    <tr>\n",
       "      <th>15794</th>\n",
       "      <td>3241</td>\n",
       "      <td>1700.906877</td>\n",
       "    </tr>\n",
       "    <tr>\n",
       "      <th>31518</th>\n",
       "      <td>0</td>\n",
       "      <td>811.488144</td>\n",
       "    </tr>\n",
       "    <tr>\n",
       "      <th>24774</th>\n",
       "      <td>1</td>\n",
       "      <td>1571.035078</td>\n",
       "    </tr>\n",
       "    <tr>\n",
       "      <th>2</th>\n",
       "      <td>0</td>\n",
       "      <td>700.723127</td>\n",
       "    </tr>\n",
       "    <tr>\n",
       "      <th>1096</th>\n",
       "      <td>0</td>\n",
       "      <td>36.077934</td>\n",
       "    </tr>\n",
       "    <tr>\n",
       "      <th>20080</th>\n",
       "      <td>0</td>\n",
       "      <td>1724.994299</td>\n",
       "    </tr>\n",
       "    <tr>\n",
       "      <th>39764</th>\n",
       "      <td>3086</td>\n",
       "      <td>2097.146301</td>\n",
       "    </tr>\n",
       "    <tr>\n",
       "      <th>23004</th>\n",
       "      <td>0</td>\n",
       "      <td>213.996225</td>\n",
       "    </tr>\n",
       "    <tr>\n",
       "      <th>27000</th>\n",
       "      <td>3309</td>\n",
       "      <td>1893.876747</td>\n",
       "    </tr>\n",
       "    <tr>\n",
       "      <th>20255</th>\n",
       "      <td>0</td>\n",
       "      <td>1452.484544</td>\n",
       "    </tr>\n",
       "    <tr>\n",
       "      <th>18199</th>\n",
       "      <td>1</td>\n",
       "      <td>-495.624529</td>\n",
       "    </tr>\n",
       "    <tr>\n",
       "      <th>6207</th>\n",
       "      <td>1</td>\n",
       "      <td>1212.964947</td>\n",
       "    </tr>\n",
       "    <tr>\n",
       "      <th>18848</th>\n",
       "      <td>0</td>\n",
       "      <td>696.760496</td>\n",
       "    </tr>\n",
       "    <tr>\n",
       "      <th>24647</th>\n",
       "      <td>121</td>\n",
       "      <td>95.209570</td>\n",
       "    </tr>\n",
       "    <tr>\n",
       "      <th>23808</th>\n",
       "      <td>502</td>\n",
       "      <td>870.981103</td>\n",
       "    </tr>\n",
       "    <tr>\n",
       "      <th>19928</th>\n",
       "      <td>0</td>\n",
       "      <td>1770.147420</td>\n",
       "    </tr>\n",
       "    <tr>\n",
       "      <th>16142</th>\n",
       "      <td>3241</td>\n",
       "      <td>1709.618325</td>\n",
       "    </tr>\n",
       "    <tr>\n",
       "      <th>31404</th>\n",
       "      <td>0</td>\n",
       "      <td>-626.280959</td>\n",
       "    </tr>\n",
       "    <tr>\n",
       "      <th>40713</th>\n",
       "      <td>2</td>\n",
       "      <td>1633.033962</td>\n",
       "    </tr>\n",
       "    <tr>\n",
       "      <th>26648</th>\n",
       "      <td>3309</td>\n",
       "      <td>1882.180643</td>\n",
       "    </tr>\n",
       "    <tr>\n",
       "      <th>28860</th>\n",
       "      <td>3</td>\n",
       "      <td>1470.859274</td>\n",
       "    </tr>\n",
       "    <tr>\n",
       "      <th>18757</th>\n",
       "      <td>0</td>\n",
       "      <td>1428.151536</td>\n",
       "    </tr>\n",
       "    <tr>\n",
       "      <th>2731</th>\n",
       "      <td>11</td>\n",
       "      <td>833.913099</td>\n",
       "    </tr>\n",
       "    <tr>\n",
       "      <th>28828</th>\n",
       "      <td>1536</td>\n",
       "      <td>621.589904</td>\n",
       "    </tr>\n",
       "  </tbody>\n",
       "</table>\n",
       "<p>10592 rows × 2 columns</p>\n",
       "</div>"
      ],
      "text/plain": [
       "       Actual Retweets  Predicted Retweet\n",
       "12295               14        -403.977332\n",
       "37966             3086        2070.031217\n",
       "808                 49         698.428618\n",
       "948                  0        1368.692756\n",
       "23003                1       -1360.444387\n",
       "1399                 0        1360.650035\n",
       "39427             3086        2085.597540\n",
       "25986             3309        1867.887102\n",
       "1000                14         804.108428\n",
       "5163                 0        1186.944501\n",
       "23428                1        1084.102837\n",
       "17380             3241        1731.065972\n",
       "35253                1        1643.263082\n",
       "14267                0        1026.567451\n",
       "1144                 0        -163.787070\n",
       "42273             3043        2135.460141\n",
       "31043             3228        1954.952646\n",
       "28788                0        1267.950834\n",
       "32464                0        1476.708070\n",
       "14507               25        1024.570869\n",
       "38189             3086        2068.291174\n",
       "11350               15         939.333764\n",
       "42275                0         201.699580\n",
       "33122                0        1331.873284\n",
       "14536               66         390.005807\n",
       "19481               53         567.742004\n",
       "36493                0        1412.575543\n",
       "25524                9         125.667541\n",
       "6274                 0         882.769050\n",
       "40174             3086        2104.905759\n",
       "...                ...                ...\n",
       "10719                1         270.491646\n",
       "6955               743         280.010784\n",
       "31345                0         998.352997\n",
       "18949                0        -179.356742\n",
       "31655                0        1622.732384\n",
       "39488             3086        2099.018320\n",
       "15794             3241        1700.906877\n",
       "31518                0         811.488144\n",
       "24774                1        1571.035078\n",
       "2                    0         700.723127\n",
       "1096                 0          36.077934\n",
       "20080                0        1724.994299\n",
       "39764             3086        2097.146301\n",
       "23004                0         213.996225\n",
       "27000             3309        1893.876747\n",
       "20255                0        1452.484544\n",
       "18199                1        -495.624529\n",
       "6207                 1        1212.964947\n",
       "18848                0         696.760496\n",
       "24647              121          95.209570\n",
       "23808              502         870.981103\n",
       "19928                0        1770.147420\n",
       "16142             3241        1709.618325\n",
       "31404                0        -626.280959\n",
       "40713                2        1633.033962\n",
       "26648             3309        1882.180643\n",
       "28860                3        1470.859274\n",
       "18757                0        1428.151536\n",
       "2731                11         833.913099\n",
       "28828             1536         621.589904\n",
       "\n",
       "[10592 rows x 2 columns]"
      ]
     },
     "execution_count": 30,
     "metadata": {},
     "output_type": "execute_result"
    }
   ],
   "source": [
    "print(\"Actual vs Predicted using Linear Regression\")\n",
    "pd.DataFrame({'Predicted Retweet':Y_pred,'Actual Retweets':Y_test})"
   ]
  },
  {
   "cell_type": "markdown",
   "metadata": {},
   "source": [
    "## Linear Regression using Cross Validation"
   ]
  },
  {
   "cell_type": "code",
   "execution_count": 131,
   "metadata": {
    "collapsed": false
   },
   "outputs": [
    {
     "name": "stdout",
     "output_type": "stream",
     "text": [
      "[-1132984.21053945 -1127077.36508211  -947762.59561208 -1382374.03303885\n",
      " -1879480.77428585 -1867526.45043652 -1459775.80507161 -1186362.68898767\n",
      " -1459774.5887404  -1491923.80407413 -1489165.83234217 -1390726.81664113\n",
      " -1477979.03896238]\n"
     ]
    }
   ],
   "source": [
    "lm = LinearRegression()\n",
    "scores = cross_val_score(lm, X1, Y, cv=13, scoring='neg_mean_squared_error')\n",
    "print(scores)"
   ]
  },
  {
   "cell_type": "code",
   "execution_count": 126,
   "metadata": {
    "collapsed": false
   },
   "outputs": [
    {
     "name": "stdout",
     "output_type": "stream",
     "text": [
      "[ 1132984.21053945  1127077.36508211   947762.59561208  1382374.03303885\n",
      "  1879480.77428585  1867526.45043652  1459775.80507161  1186362.68898767\n",
      "  1459774.5887404   1491923.80407413  1489165.83234217  1390726.81664113\n",
      "  1477979.03896238]\n"
     ]
    }
   ],
   "source": [
    "# fix the sign of MSE scores\n",
    "mse_scores = -scores\n",
    "print(mse_scores)"
   ]
  },
  {
   "cell_type": "code",
   "execution_count": 127,
   "metadata": {
    "collapsed": false
   },
   "outputs": [
    {
     "name": "stdout",
     "output_type": "stream",
     "text": [
      "[ 1064.41731033  1061.63899942   973.53099366  1175.74403381  1370.94156487\n",
      "  1366.57471455  1208.21182128  1089.2027768   1208.21131792  1221.44332823\n",
      "  1220.31382535  1179.29081089  1215.72161244]\n"
     ]
    }
   ],
   "source": [
    "# convert from MSE to RMSE\n",
    "rmse_scores = np.sqrt(mse_scores)\n",
    "print(rmse_scores)"
   ]
  },
  {
   "cell_type": "code",
   "execution_count": 128,
   "metadata": {
    "collapsed": false
   },
   "outputs": [
    {
     "name": "stdout",
     "output_type": "stream",
     "text": [
      "1181.17254689\n"
     ]
    }
   ],
   "source": [
    "# calculate the average RMSE\n",
    "print(rmse_scores.mean())"
   ]
  },
  {
   "cell_type": "markdown",
   "metadata": {},
   "source": [
    "## Random Forest on Training Data and Checking on Test Data"
   ]
  },
  {
   "cell_type": "code",
   "execution_count": 46,
   "metadata": {
    "collapsed": false
   },
   "outputs": [
    {
     "data": {
      "text/plain": [
       "RandomForestRegressor(bootstrap=True, criterion='mse', max_depth=None,\n",
       "           max_features='auto', max_leaf_nodes=None,\n",
       "           min_impurity_split=1e-07, min_samples_leaf=1,\n",
       "           min_samples_split=2, min_weight_fraction_leaf=0.0,\n",
       "           n_estimators=75, n_jobs=1, oob_score=False, random_state=None,\n",
       "           verbose=0, warm_start=False)"
      ]
     },
     "execution_count": 46,
     "metadata": {},
     "output_type": "execute_result"
    }
   ],
   "source": [
    "rf = RandomForestRegressor(n_estimators=75)\n",
    "rf.fit(X_train,Y_train)"
   ]
  },
  {
   "cell_type": "code",
   "execution_count": 58,
   "metadata": {
    "collapsed": false
   },
   "outputs": [],
   "source": [
    "Y_pred = rf.predict(X_test)"
   ]
  },
  {
   "cell_type": "code",
   "execution_count": 154,
   "metadata": {
    "collapsed": false
   },
   "outputs": [
    {
     "data": {
      "image/png": "[encoded data removed]",
      "text/plain": [
       "<matplotlib.figure.Figure at 0x7f4a67221790>"
      ]
     },
     "metadata": {},
     "output_type": "display_data"
    }
   ],
   "source": [
    "#important features \n",
    "importances = rf.feature_importances_\n",
    "indices = np.argsort(importances)\n",
    "\n",
    "plt.title('Feature Importances')\n",
    "plt.barh(range(len(indices)), importances[indices], color='b', align='center')\n",
    "plt.yticks(range(len(indices)), feature_cols) ## removed [indices]\n",
    "plt.xlabel('Relative Importance')\n",
    "plt.show()\n"
   ]
  },
  {
   "cell_type": "code",
   "execution_count": 48,
   "metadata": {
    "collapsed": false,
    "scrolled": true
   },
   "outputs": [
    {
     "name": "stdout",
     "output_type": "stream",
     "text": [
      "120.60600209\n"
     ]
    }
   ],
   "source": [
    "#calculating RMSE\n",
    "print(np.sqrt(mean_squared_error(Y_test, Y_pred)))"
   ]
  },
  {
   "cell_type": "code",
   "execution_count": 60,
   "metadata": {
    "collapsed": false
   },
   "outputs": [
    {
     "data": {
      "text/plain": [
       "0.99287008225666129"
      ]
     },
     "execution_count": 60,
     "metadata": {},
     "output_type": "execute_result"
    }
   ],
   "source": [
    "#r square score\n",
    "r2_score(Y_test,Y_pred)"
   ]
  },
  {
   "cell_type": "code",
   "execution_count": 150,
   "metadata": {
    "collapsed": false
   },
   "outputs": [
    {
     "data": {
      "text/plain": [
       "0.9928700822566613"
      ]
     },
     "execution_count": 150,
     "metadata": {},
     "output_type": "execute_result"
    }
   ],
   "source": [
    "#adjusted r square\n",
    "adjusted_r_square=1-(1-0.99287008225666129 )*(31775/31768)\n",
    "\n",
    "adjusted_r_square"
   ]
  },
  {
   "cell_type": "code",
   "execution_count": 32,
   "metadata": {
    "collapsed": false,
    "scrolled": true
   },
   "outputs": [
    {
     "name": "stdout",
     "output_type": "stream",
     "text": [
      "Actual vs Predicted using Random Forest\n"
     ]
    },
    {
     "data": {
      "text/html": [
       "<div>\n",
       "<table border=\"1\" class=\"dataframe\">\n",
       "  <thead>\n",
       "    <tr style=\"text-align: right;\">\n",
       "      <th></th>\n",
       "      <th>Actual Retweets</th>\n",
       "      <th>Predicted Retweet</th>\n",
       "    </tr>\n",
       "  </thead>\n",
       "  <tbody>\n",
       "    <tr>\n",
       "      <th>12295</th>\n",
       "      <td>14</td>\n",
       "      <td>4.800000</td>\n",
       "    </tr>\n",
       "    <tr>\n",
       "      <th>37966</th>\n",
       "      <td>3086</td>\n",
       "      <td>3086.000000</td>\n",
       "    </tr>\n",
       "    <tr>\n",
       "      <th>808</th>\n",
       "      <td>49</td>\n",
       "      <td>61.320000</td>\n",
       "    </tr>\n",
       "    <tr>\n",
       "      <th>948</th>\n",
       "      <td>0</td>\n",
       "      <td>310.600000</td>\n",
       "    </tr>\n",
       "    <tr>\n",
       "      <th>23003</th>\n",
       "      <td>1</td>\n",
       "      <td>1.700000</td>\n",
       "    </tr>\n",
       "    <tr>\n",
       "      <th>1399</th>\n",
       "      <td>0</td>\n",
       "      <td>0.200000</td>\n",
       "    </tr>\n",
       "    <tr>\n",
       "      <th>39427</th>\n",
       "      <td>3086</td>\n",
       "      <td>3086.000000</td>\n",
       "    </tr>\n",
       "    <tr>\n",
       "      <th>25986</th>\n",
       "      <td>3309</td>\n",
       "      <td>3309.000000</td>\n",
       "    </tr>\n",
       "    <tr>\n",
       "      <th>1000</th>\n",
       "      <td>14</td>\n",
       "      <td>18.800000</td>\n",
       "    </tr>\n",
       "    <tr>\n",
       "      <th>5163</th>\n",
       "      <td>0</td>\n",
       "      <td>33.400000</td>\n",
       "    </tr>\n",
       "    <tr>\n",
       "      <th>23428</th>\n",
       "      <td>1</td>\n",
       "      <td>2.700000</td>\n",
       "    </tr>\n",
       "    <tr>\n",
       "      <th>17380</th>\n",
       "      <td>3241</td>\n",
       "      <td>3241.000000</td>\n",
       "    </tr>\n",
       "    <tr>\n",
       "      <th>35253</th>\n",
       "      <td>1</td>\n",
       "      <td>1.100000</td>\n",
       "    </tr>\n",
       "    <tr>\n",
       "      <th>14267</th>\n",
       "      <td>0</td>\n",
       "      <td>9.000000</td>\n",
       "    </tr>\n",
       "    <tr>\n",
       "      <th>1144</th>\n",
       "      <td>0</td>\n",
       "      <td>0.500000</td>\n",
       "    </tr>\n",
       "    <tr>\n",
       "      <th>42273</th>\n",
       "      <td>3043</td>\n",
       "      <td>3043.000000</td>\n",
       "    </tr>\n",
       "    <tr>\n",
       "      <th>31043</th>\n",
       "      <td>3228</td>\n",
       "      <td>3228.000000</td>\n",
       "    </tr>\n",
       "    <tr>\n",
       "      <th>28788</th>\n",
       "      <td>0</td>\n",
       "      <td>1.600000</td>\n",
       "    </tr>\n",
       "    <tr>\n",
       "      <th>32464</th>\n",
       "      <td>0</td>\n",
       "      <td>0.000000</td>\n",
       "    </tr>\n",
       "    <tr>\n",
       "      <th>14507</th>\n",
       "      <td>25</td>\n",
       "      <td>35.300000</td>\n",
       "    </tr>\n",
       "    <tr>\n",
       "      <th>38189</th>\n",
       "      <td>3086</td>\n",
       "      <td>3086.000000</td>\n",
       "    </tr>\n",
       "    <tr>\n",
       "      <th>11350</th>\n",
       "      <td>15</td>\n",
       "      <td>7.700000</td>\n",
       "    </tr>\n",
       "    <tr>\n",
       "      <th>42275</th>\n",
       "      <td>0</td>\n",
       "      <td>3.800000</td>\n",
       "    </tr>\n",
       "    <tr>\n",
       "      <th>33122</th>\n",
       "      <td>0</td>\n",
       "      <td>1.100000</td>\n",
       "    </tr>\n",
       "    <tr>\n",
       "      <th>14536</th>\n",
       "      <td>66</td>\n",
       "      <td>24.800000</td>\n",
       "    </tr>\n",
       "    <tr>\n",
       "      <th>19481</th>\n",
       "      <td>53</td>\n",
       "      <td>74.100000</td>\n",
       "    </tr>\n",
       "    <tr>\n",
       "      <th>36493</th>\n",
       "      <td>0</td>\n",
       "      <td>0.700000</td>\n",
       "    </tr>\n",
       "    <tr>\n",
       "      <th>25524</th>\n",
       "      <td>9</td>\n",
       "      <td>18.600000</td>\n",
       "    </tr>\n",
       "    <tr>\n",
       "      <th>6274</th>\n",
       "      <td>0</td>\n",
       "      <td>0.500000</td>\n",
       "    </tr>\n",
       "    <tr>\n",
       "      <th>40174</th>\n",
       "      <td>3086</td>\n",
       "      <td>3086.000000</td>\n",
       "    </tr>\n",
       "    <tr>\n",
       "      <th>...</th>\n",
       "      <td>...</td>\n",
       "      <td>...</td>\n",
       "    </tr>\n",
       "    <tr>\n",
       "      <th>10719</th>\n",
       "      <td>1</td>\n",
       "      <td>0.300000</td>\n",
       "    </tr>\n",
       "    <tr>\n",
       "      <th>6955</th>\n",
       "      <td>743</td>\n",
       "      <td>743.000000</td>\n",
       "    </tr>\n",
       "    <tr>\n",
       "      <th>31345</th>\n",
       "      <td>0</td>\n",
       "      <td>1.000000</td>\n",
       "    </tr>\n",
       "    <tr>\n",
       "      <th>18949</th>\n",
       "      <td>0</td>\n",
       "      <td>0.500000</td>\n",
       "    </tr>\n",
       "    <tr>\n",
       "      <th>31655</th>\n",
       "      <td>0</td>\n",
       "      <td>10.500000</td>\n",
       "    </tr>\n",
       "    <tr>\n",
       "      <th>39488</th>\n",
       "      <td>3086</td>\n",
       "      <td>3086.000000</td>\n",
       "    </tr>\n",
       "    <tr>\n",
       "      <th>15794</th>\n",
       "      <td>3241</td>\n",
       "      <td>3241.000000</td>\n",
       "    </tr>\n",
       "    <tr>\n",
       "      <th>31518</th>\n",
       "      <td>0</td>\n",
       "      <td>0.400000</td>\n",
       "    </tr>\n",
       "    <tr>\n",
       "      <th>24774</th>\n",
       "      <td>1</td>\n",
       "      <td>1.800000</td>\n",
       "    </tr>\n",
       "    <tr>\n",
       "      <th>2</th>\n",
       "      <td>0</td>\n",
       "      <td>44.800000</td>\n",
       "    </tr>\n",
       "    <tr>\n",
       "      <th>1096</th>\n",
       "      <td>0</td>\n",
       "      <td>34.700000</td>\n",
       "    </tr>\n",
       "    <tr>\n",
       "      <th>20080</th>\n",
       "      <td>0</td>\n",
       "      <td>0.000000</td>\n",
       "    </tr>\n",
       "    <tr>\n",
       "      <th>39764</th>\n",
       "      <td>3086</td>\n",
       "      <td>3086.000000</td>\n",
       "    </tr>\n",
       "    <tr>\n",
       "      <th>23004</th>\n",
       "      <td>0</td>\n",
       "      <td>0.200000</td>\n",
       "    </tr>\n",
       "    <tr>\n",
       "      <th>27000</th>\n",
       "      <td>3309</td>\n",
       "      <td>3309.000000</td>\n",
       "    </tr>\n",
       "    <tr>\n",
       "      <th>20255</th>\n",
       "      <td>0</td>\n",
       "      <td>11.600000</td>\n",
       "    </tr>\n",
       "    <tr>\n",
       "      <th>18199</th>\n",
       "      <td>1</td>\n",
       "      <td>1.127339</td>\n",
       "    </tr>\n",
       "    <tr>\n",
       "      <th>6207</th>\n",
       "      <td>1</td>\n",
       "      <td>309.200000</td>\n",
       "    </tr>\n",
       "    <tr>\n",
       "      <th>18848</th>\n",
       "      <td>0</td>\n",
       "      <td>3.700000</td>\n",
       "    </tr>\n",
       "    <tr>\n",
       "      <th>24647</th>\n",
       "      <td>121</td>\n",
       "      <td>89.400000</td>\n",
       "    </tr>\n",
       "    <tr>\n",
       "      <th>23808</th>\n",
       "      <td>502</td>\n",
       "      <td>502.000000</td>\n",
       "    </tr>\n",
       "    <tr>\n",
       "      <th>19928</th>\n",
       "      <td>0</td>\n",
       "      <td>0.000000</td>\n",
       "    </tr>\n",
       "    <tr>\n",
       "      <th>16142</th>\n",
       "      <td>3241</td>\n",
       "      <td>3241.000000</td>\n",
       "    </tr>\n",
       "    <tr>\n",
       "      <th>31404</th>\n",
       "      <td>0</td>\n",
       "      <td>13.700000</td>\n",
       "    </tr>\n",
       "    <tr>\n",
       "      <th>40713</th>\n",
       "      <td>2</td>\n",
       "      <td>2.100000</td>\n",
       "    </tr>\n",
       "    <tr>\n",
       "      <th>26648</th>\n",
       "      <td>3309</td>\n",
       "      <td>3309.000000</td>\n",
       "    </tr>\n",
       "    <tr>\n",
       "      <th>28860</th>\n",
       "      <td>3</td>\n",
       "      <td>13.600000</td>\n",
       "    </tr>\n",
       "    <tr>\n",
       "      <th>18757</th>\n",
       "      <td>0</td>\n",
       "      <td>8.100000</td>\n",
       "    </tr>\n",
       "    <tr>\n",
       "      <th>2731</th>\n",
       "      <td>11</td>\n",
       "      <td>17.200000</td>\n",
       "    </tr>\n",
       "    <tr>\n",
       "      <th>28828</th>\n",
       "      <td>1536</td>\n",
       "      <td>1536.000000</td>\n",
       "    </tr>\n",
       "  </tbody>\n",
       "</table>\n",
       "<p>10592 rows × 2 columns</p>\n",
       "</div>"
      ],
      "text/plain": [
       "       Actual Retweets  Predicted Retweet\n",
       "12295               14           4.800000\n",
       "37966             3086        3086.000000\n",
       "808                 49          61.320000\n",
       "948                  0         310.600000\n",
       "23003                1           1.700000\n",
       "1399                 0           0.200000\n",
       "39427             3086        3086.000000\n",
       "25986             3309        3309.000000\n",
       "1000                14          18.800000\n",
       "5163                 0          33.400000\n",
       "23428                1           2.700000\n",
       "17380             3241        3241.000000\n",
       "35253                1           1.100000\n",
       "14267                0           9.000000\n",
       "1144                 0           0.500000\n",
       "42273             3043        3043.000000\n",
       "31043             3228        3228.000000\n",
       "28788                0           1.600000\n",
       "32464                0           0.000000\n",
       "14507               25          35.300000\n",
       "38189             3086        3086.000000\n",
       "11350               15           7.700000\n",
       "42275                0           3.800000\n",
       "33122                0           1.100000\n",
       "14536               66          24.800000\n",
       "19481               53          74.100000\n",
       "36493                0           0.700000\n",
       "25524                9          18.600000\n",
       "6274                 0           0.500000\n",
       "40174             3086        3086.000000\n",
       "...                ...                ...\n",
       "10719                1           0.300000\n",
       "6955               743         743.000000\n",
       "31345                0           1.000000\n",
       "18949                0           0.500000\n",
       "31655                0          10.500000\n",
       "39488             3086        3086.000000\n",
       "15794             3241        3241.000000\n",
       "31518                0           0.400000\n",
       "24774                1           1.800000\n",
       "2                    0          44.800000\n",
       "1096                 0          34.700000\n",
       "20080                0           0.000000\n",
       "39764             3086        3086.000000\n",
       "23004                0           0.200000\n",
       "27000             3309        3309.000000\n",
       "20255                0          11.600000\n",
       "18199                1           1.127339\n",
       "6207                 1         309.200000\n",
       "18848                0           3.700000\n",
       "24647              121          89.400000\n",
       "23808              502         502.000000\n",
       "19928                0           0.000000\n",
       "16142             3241        3241.000000\n",
       "31404                0          13.700000\n",
       "40713                2           2.100000\n",
       "26648             3309        3309.000000\n",
       "28860                3          13.600000\n",
       "18757                0           8.100000\n",
       "2731                11          17.200000\n",
       "28828             1536        1536.000000\n",
       "\n",
       "[10592 rows x 2 columns]"
      ]
     },
     "execution_count": 32,
     "metadata": {},
     "output_type": "execute_result"
    }
   ],
   "source": [
    "print(\"Actual vs Predicted using Random Forest\")\n",
    "pd.DataFrame({'Predicted Retweet':Y_pred,'Actual Retweets':Y_test})"
   ]
  }
 ],
 "metadata": {
  "kernelspec": {
   "display_name": "Python [Root]",
   "language": "python",
   "name": "Python [Root]"
  },
  "language_info": {
   "codemirror_mode": {
    "name": "ipython",
    "version": 2
   },
   "file_extension": ".py",
   "mimetype": "text/x-python",
   "name": "python",
   "nbconvert_exporter": "python",
   "pygments_lexer": "ipython2",
   "version": "2.7.12"
  }
 },
 "nbformat": 4,
 "nbformat_minor": 0
}
